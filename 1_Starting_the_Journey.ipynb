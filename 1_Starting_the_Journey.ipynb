{
  "nbformat": 4,
  "nbformat_minor": 0,
  "metadata": {
    "colab": {
      "provenance": []
    },
    "kernelspec": {
      "name": "python3",
      "display_name": "Python 3"
    },
    "language_info": {
      "name": "python"
    }
  },
  "cells": [
    {
      "cell_type": "markdown",
      "source": [
        "# Task : Session 1\n",
        "Solve these questions own your own and try to test yourself what you have learned in the session.\n",
        "\n",
        "Happy Learning!"
      ],
      "metadata": {
        "id": "A05OG15VqOPF"
      }
    },
    {
      "cell_type": "markdown",
      "source": [
        "### Q1 :- Print the given strings as per stated format.\n",
        "\n",
        "**Given strings**:\n",
        "```\n",
        "\"Data\" \"Science\" \"Mentorship\" \"Program\"\n",
        "\"By\" \"CampusX\"\n",
        "```\n",
        "**Output**:\n",
        "```\n",
        "Data-Science-Mentorship-Program-started-By-CampusX\n",
        "```\n",
        "\n",
        "Concept- [Seperator and End]"
      ],
      "metadata": {
        "id": "2doIXf8bqe9_"
      }
    },
    {
      "cell_type": "code",
      "source": [
        "s = [\"Data\", \"Science\", \"Mentorship\",\"Program\"]\n",
        "s2 = [\"By\", \"CampusX\"]\n",
        "for i in s:\n",
        "  print(i,end='-')\n",
        "  if i == s[-1]:\n",
        "    for j in s2:\n",
        "      if j == s2[-1]:\n",
        "        print(j,end='')\n",
        "      else:\n",
        "        print(j,end='-')\n",
        "s , s2"
      ],
      "metadata": {
        "id": "-em6d3KErDtp",
        "colab": {
          "base_uri": "https://localhost:8080/"
        },
        "outputId": "e1e3e67c-aca8-4a27-f810-24dc7b0c38ac"
      },
      "execution_count": 13,
      "outputs": [
        {
          "output_type": "stream",
          "name": "stdout",
          "text": [
            "Data-Science-Mentorship-Program-By-CampusX"
          ]
        },
        {
          "output_type": "execute_result",
          "data": {
            "text/plain": [
              "(['Data', 'Science', 'Mentorship', 'Program'], ['By', 'CampusX'])"
            ]
          },
          "metadata": {},
          "execution_count": 13
        }
      ]
    },
    {
      "cell_type": "markdown",
      "source": [
        "### Q2:- Write a program that will convert celsius value to fahrenheit."
      ],
      "metadata": {
        "id": "1KUpN7ZTrC3_"
      }
    },
    {
      "cell_type": "code",
      "source": [
        "# Write your code here\n",
        "# Celsius to Fahrenheit conversion\n",
        "\n",
        "# Take Celsius input from user\n",
        "celsius = float(input(\"Enter temperature in Celsius: \"))\n",
        "\n",
        "# Conversion formula\n",
        "fahrenheit = (celsius * 9/5) + 32\n",
        "\n",
        "# Display result\n",
        "print(f\"{celsius}°C is equal to {fahrenheit}°F\")\n"
      ],
      "metadata": {
        "id": "yxKYhYQiqWfj",
        "colab": {
          "base_uri": "https://localhost:8080/"
        },
        "outputId": "d36b350b-62cb-4389-8ae1-3bace9461c01"
      },
      "execution_count": 14,
      "outputs": [
        {
          "output_type": "stream",
          "name": "stdout",
          "text": [
            "Enter temperature in Celsius: 12\n",
            "12.0°C is equal to 53.6°F\n"
          ]
        }
      ]
    },
    {
      "cell_type": "markdown",
      "source": [
        "### Q3:- Take 2 numbers as input from the user.Write a program to swap the numbers without using any special python syntax."
      ],
      "metadata": {
        "id": "RLrOBBJurLB2"
      }
    },
    {
      "cell_type": "code",
      "source": [
        "# Write your code here\n",
        "a = input(\"Enter you Ist number\")\n",
        "b = input(\"Enter you 2nd number\")\n",
        "temp = a\n",
        "a = b\n",
        "b = temp\n",
        "print(\"The value of a is \",a)\n",
        "print(\"The value of a is \",b)\n",
        "\n"
      ],
      "metadata": {
        "id": "yPn7if0TrJ4F",
        "colab": {
          "base_uri": "https://localhost:8080/"
        },
        "outputId": "85419f94-e784-4459-b8b3-defb3c64272a"
      },
      "execution_count": 16,
      "outputs": [
        {
          "output_type": "stream",
          "name": "stdout",
          "text": [
            "Enter you Ist number12\n",
            "Enter you 2nd number45\n",
            "The value of a is  45\n",
            "The value of a is  12\n"
          ]
        }
      ]
    },
    {
      "cell_type": "markdown",
      "source": [
        "### Q4:- Write a program to find the euclidean distance between two coordinates.Take both the coordinates from the user as input."
      ],
      "metadata": {
        "id": "waLCP1bjr7ML"
      }
    },
    {
      "cell_type": "code",
      "source": [
        "# Write your code here# Euclidean distance formula:\n",
        "# distance = sqrt((x2 - x1)^2 + (y2 - y1)^2)\n",
        "\n",
        "import math\n",
        "\n",
        "# Taking coordinates from the user\n",
        "x1 = float(input(\"Enter x1: \"))\n",
        "y1 = float(input(\"Enter y1: \"))\n",
        "x2 = float(input(\"Enter x2: \"))\n",
        "y2 = float(input(\"Enter y2: \"))\n",
        "\n",
        "# Calculating distance\n",
        "distance = math.sqrt((x2 - x1)**2 + (y2 - y1)**2)\n",
        "\n",
        "# Display result\n",
        "print(f\"The Euclidean distance between ({x1}, {y1}) and ({x2}, {y2}) is: {distance}\")\n"
      ],
      "metadata": {
        "id": "Pl1Sv-xnrxnH",
        "colab": {
          "base_uri": "https://localhost:8080/"
        },
        "outputId": "edf76114-b4ca-4211-925d-19ae9161661f"
      },
      "execution_count": 17,
      "outputs": [
        {
          "output_type": "stream",
          "name": "stdout",
          "text": [
            "Enter x1: 12\n",
            "Enter y1: 13\n",
            "Enter x2: 14\n",
            "Enter y2: 15\n",
            "The Euclidean distance between (12.0, 13.0) and (14.0, 15.0) is: 2.8284271247461903\n"
          ]
        }
      ]
    },
    {
      "cell_type": "markdown",
      "source": [
        "### Q5:- Write a program to find the simple interest when the value of principle,rate of interest and time period is provided by the user.\n"
      ],
      "metadata": {
        "id": "VLrhg-FRsHjR"
      }
    },
    {
      "cell_type": "code",
      "source": [
        "# Write your code here\n",
        "p = float(input(\"Enter the principal amount: \"))\n",
        "r = float(input(\"Enter the rate of interest (in percentage): \"))\n",
        "t = float(input(\"Enter the time period (in years)): \"))\n",
        "\n",
        "# Calculate simple interest\n",
        "si = (p * r * t) / 100\n",
        "\n",
        "# Display result\n",
        "print(f\"The simple interest is: {si}\")\n"
      ],
      "metadata": {
        "id": "s40DlReZsTmY",
        "colab": {
          "base_uri": "https://localhost:8080/"
        },
        "outputId": "7942e826-7b4e-42eb-ea73-969db47e90d5"
      },
      "execution_count": 18,
      "outputs": [
        {
          "output_type": "stream",
          "name": "stdout",
          "text": [
            "Enter the principal amount: 12\n",
            "Enter the rate of interest (in percentage): 3\n",
            "Enter the time period (in years)): 23\n",
            "The simple interest is: 8.28\n"
          ]
        }
      ]
    },
    {
      "cell_type": "markdown",
      "source": [
        "2### Q6:- Write a program that will tell the number of dogs and chicken are there when the user will provide the value of total heads and legs.\n",
        "\n",
        "For example:\n",
        "Input:\n",
        "heads -> 4\n",
        "legs -> 12\n",
        "<br>\n",
        "Output:\n",
        "dogs -> 2\n",
        "chicken -> 2\n",
        "\n",
        "\n",
        "\n"
      ],
      "metadata": {
        "id": "LMy0BTUktYKa"
      }
    },
    {
      "cell_type": "code",
      "source": [
        "# Write your code here\n",
        "# Dogs and Chickens Problem\n",
        "\n",
        "# Taking input from the user\n",
        "heads = int(input(\"Enter total number of heads: \"))\n",
        "legs = int(input(\"Enter total number of legs: \"))\n",
        "\n",
        "# Dogs have 4 legs, chickens have 2 legs\n",
        "# Let dogs = d, chickens = c\n",
        "# We know:\n",
        "# c + d = heads\n",
        "# 2c + 4d = legs\n",
        "\n",
        "# Solving equations:\n",
        "# From first: c = heads - d\n",
        "# Substitute into second:\n",
        "# 2(heads - d) + 4d = legs\n",
        "# 2*heads - 2d + 4d = legs\n",
        "# 2*heads + 2d = legs\n",
        "# 2d = legs - 2*heads\n",
        "# d = (legs - 2*heads) / 2\n",
        "\n",
        "dogs = (legs - 2 * heads) // 2\n",
        "chickens = heads - dogs\n",
        "\n",
        "if dogs < 0 or chickens < 0 or (legs % 2 != 0):\n",
        "    print(\"Invalid input! No solution possible.\")\n",
        "else:\n",
        "    print(f\"Dogs -> {dogs}\")\n",
        "    print(f\"Chickens -> {chickens}\")\n"
      ],
      "metadata": {
        "id": "XSBvJoA4tXaG",
        "colab": {
          "base_uri": "https://localhost:8080/"
        },
        "outputId": "283b1aa7-b86f-4359-8684-395e7540daad"
      },
      "execution_count": 19,
      "outputs": [
        {
          "output_type": "stream",
          "name": "stdout",
          "text": [
            "Enter total number of heads: 12\n",
            "Enter total number of legs: 4\n",
            "Invalid input! No solution possible.\n"
          ]
        }
      ]
    },
    {
      "cell_type": "markdown",
      "source": [
        "### Q7:- Write a program to find the sum of squares of first n natural numbers where n will be provided by the user."
      ],
      "metadata": {
        "id": "gJ7C5kZYt4BP"
      }
    },
    {
      "cell_type": "code",
      "source": [
        "# Write your code here\n",
        "n = int(input(\"Enter a number: \"))\n",
        "sum_of_squares = 0\n",
        "\n",
        "for i in range(1, n + 1):\n",
        "    sum_of_squares += i ** 2\n",
        "    print(sum_of_squares)\n",
        "\n",
        "print(f\"The sum of squares of the first {n} natural numbers is: {sum_of_squares}\")"
      ],
      "metadata": {
        "id": "_tHsmEHzt2nX",
        "colab": {
          "base_uri": "https://localhost:8080/"
        },
        "outputId": "0046ec41-14c8-4429-fa2f-a0e070fea722"
      },
      "execution_count": 21,
      "outputs": [
        {
          "output_type": "stream",
          "name": "stdout",
          "text": [
            "Enter a number: 5\n",
            "1\n",
            "5\n",
            "14\n",
            "30\n",
            "55\n",
            "The sum of squares of the first 5 natural numbers is: 55\n"
          ]
        }
      ]
    },
    {
      "cell_type": "markdown",
      "source": [
        "### Q8:- Given the first 2 terms of an Arithmetic Series.Find the Nth term of the series. Assume all inputs are provided by the user."
      ],
      "metadata": {
        "id": "FHrMM7g-yG1h"
      }
    },
    {
      "cell_type": "code",
      "source": [
        "# Write your code here\n",
        "# Arithmetic Series: a + (n-1)d\n",
        "# Nth term of an Arithmetic Series\n",
        "\n",
        "# Taking inputs\n",
        "a1 = float(input(\"Enter the first term (a1): \"))\n",
        "a2 = float(input(\"Enter the second term (a2): \"))\n",
        "n = int(input(\"Enter the term number (n): \"))\n",
        "\n",
        "# Common difference\n",
        "d = a2 - a1\n",
        "\n",
        "# Nth term formula: an = a1 + (n - 1) * d\n",
        "an = a1 + (n - 1) * d\n",
        "\n",
        "# Output result\n",
        "print(f\"The {n}th term of the series is: {an}\")\n",
        "\n"
      ],
      "metadata": {
        "id": "go4_kmZmyVSx",
        "colab": {
          "base_uri": "https://localhost:8080/"
        },
        "outputId": "1ac6bc04-d894-4bee-9c6c-fca5a5d045b8"
      },
      "execution_count": 22,
      "outputs": [
        {
          "output_type": "stream",
          "name": "stdout",
          "text": [
            "Enter the first term (a1): 6\n",
            "Enter the second term (a2): 4\n",
            "Enter the term number (n): 10\n",
            "The 10th term of the series is: -12.0\n"
          ]
        }
      ]
    },
    {
      "cell_type": "markdown",
      "source": [
        "### Q9:- Given 2 fractions, find the sum of those 2 fractions.Take the numerator and denominator values of the fractions from the user."
      ],
      "metadata": {
        "id": "QgyRX_es1oum"
      }
    },
    {
      "cell_type": "code",
      "source": [
        "# Write your code here# Sum of two fractions\n",
        "\n",
        "# Taking inputs for first fraction\n",
        "num1 = int(input(\"Enter numerator of first fraction: \"))\n",
        "den1 = int(input(\"Enter denominator of first fraction: \"))\n",
        "\n",
        "# Taking inputs for second fraction\n",
        "num2 = int(input(\"Enter numerator of second fraction: \"))\n",
        "den2 = int(input(\"Enter denominator of second fraction: \"))\n",
        "\n",
        "# Formula: (a/b) + (c/d) = (a*d + b*c) / (b*d)\n",
        "numerator_sum = (num1 * den2) + (num2 * den1)\n",
        "denominator_sum = den1 * den2\n",
        "\n",
        "# Simplify the fraction\n",
        "import math\n",
        "gcd = math.gcd(numerator_sum, denominator_sum)\n",
        "numerator_sum //= gcd\n",
        "denominator_sum //= gcd\n",
        "\n",
        "# Output result\n",
        "print(f\"The sum of the fractions is: {numerator_sum}/{denominator_sum}\")\n",
        "3\n"
      ],
      "metadata": {
        "id": "X05xqFS1yW16",
        "colab": {
          "base_uri": "https://localhost:8080/"
        },
        "outputId": "12caeae8-ed82-443a-ffae-906af82e9d97"
      },
      "execution_count": 24,
      "outputs": [
        {
          "output_type": "stream",
          "name": "stdout",
          "text": [
            "Enter numerator of first fraction: 4\n",
            "Enter denominator of first fraction: 2\n",
            "Enter numerator of second fraction: 5\n",
            "Enter denominator of second fraction: 4\n",
            "The sum of the fractions is: 13/4\n"
          ]
        },
        {
          "output_type": "execute_result",
          "data": {
            "text/plain": [
              "3"
            ]
          },
          "metadata": {},
          "execution_count": 24
        }
      ]
    },
    {
      "cell_type": "markdown",
      "source": [
        "### Q10:- Given the height, width and breadth of a milk tank, you have to find out how many glasses of milk can be obtained? Assume all the inputs are provided by the user.\n",
        "\n",
        "\n",
        "\n",
        "Input:<br>\n",
        "Dimensions of the milk tank<br>\n",
        "H = 20cm, L = 20cm, B = 20cm\n",
        "<br><br>\n",
        "Dimensions of the glass<br>\n",
        "h = 3cm, r = 1cm"
      ],
      "metadata": {
        "id": "eaql38ln13u7"
      }
    },
    {
      "cell_type": "code",
      "source": [
        "# Write your code here\n",
        "import math\n",
        "\n",
        "# Taking inputs for tank dimensions\n",
        "H = float(input(\"Enter height of milk tank (cm): \"))\n",
        "L = float(input(\"Enter length of milk tank (cm): \"))\n",
        "B = float(input(\"Enter breadth of milk tank (cm): \"))\n",
        "\n",
        "# Taking inputs for glass dimensions\n",
        "h = float(input(\"Enter height of glass (cm): \"))\n",
        "r = float(input(\"Enter radius of glass (cm): \"))\n",
        "\n",
        "# Volume of cuboid tank = H * L * B\n",
        "tank_volume = H * L * B  # in cubic cm\n",
        "\n",
        "# Volume of glass (cylinder) = π * r² * h\n",
        "glass_volume = math.pi * (r ** 2) * h\n",
        "\n",
        "# Number of glasses\n",
        "num_glasses = tank_volume // glass_volume  # floor division to get whole glasses\n",
        "\n",
        "# Output result\n",
        "print(f\"Number of full glasses of milk that can be obtained: {int(num_glasses)}\")\n"
      ],
      "metadata": {
        "id": "FePZqno74eWv",
        "colab": {
          "base_uri": "https://localhost:8080/"
        },
        "outputId": "b27d62b6-d289-4634-d857-f4013fc2441a"
      },
      "execution_count": 25,
      "outputs": [
        {
          "output_type": "stream",
          "name": "stdout",
          "text": [
            "Enter height of milk tank (cm): 10\n",
            "Enter length of milk tank (cm): 20\n",
            "Enter breadth of milk tank (cm): 30\n",
            "Enter height of glass (cm): 10\n",
            "Enter radius of glass (cm): 20\n",
            "Number of full glasses of milk that can be obtained: 0\n"
          ]
        }
      ]
    },
    {
      "cell_type": "code",
      "source": [],
      "metadata": {
        "id": "LN6FlcgB-K8i"
      },
      "execution_count": null,
      "outputs": []
    }
  ]
}